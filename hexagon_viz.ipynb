{
 "cells": [
  {
   "cell_type": "code",
   "execution_count": 1,
   "metadata": {},
   "outputs": [],
   "source": [
    "from hex_plot import *"
   ]
  },
  {
   "cell_type": "code",
   "execution_count": null,
   "metadata": {},
   "outputs": [],
   "source": [
    "\"\"\"\n",
    "Reproducing figures from Bohn and Magnasco's 2007\n",
    "paper on optimal transport networks on a hexagonal lattice\n",
    "\n",
    "\n",
    "\n",
    "S. Bohn and M. O. Magnasco. Structure, \n",
    "scaling, and phase transition in the optimal \n",
    "transport network. Phys. Rev. Lett., 98:088702, 2007\n",
    "\"\"\""
   ]
  },
  {
   "cell_type": "code",
   "execution_count": 2,
   "metadata": {},
   "outputs": [],
   "source": [
    "import ipywidgets as widgets\n",
    "from ipywidgets import interact, interact_manual\n",
    "import matplotlib as mpl\n",
    "mpl.rcParams['figure.dpi']= 250"
   ]
  },
  {
   "cell_type": "code",
   "execution_count": 3,
   "metadata": {},
   "outputs": [
    {
     "data": {
      "application/vnd.jupyter.widget-view+json": {
       "model_id": "b59499ab7998476381e41f95a740d65d",
       "version_major": 2,
       "version_minor": 0
      },
      "text/plain": [
       "interactive(children=(FloatText(value=0.5, description='gamma', step=0.1), IntText(value=8, description='side …"
      ]
     },
     "metadata": {},
     "output_type": "display_data"
    },
    {
     "data": {
      "text/plain": [
       "<function hex_plot.plot(gamma, n, i_0, epochs)>"
      ]
     },
     "execution_count": 3,
     "metadata": {},
     "output_type": "execute_result"
    }
   ],
   "source": [
    "interact(plot, gamma = widgets.FloatText(description='gamma',value=0.5, min=0, max = 2, step = 0.1),\n",
    "n = widgets.IntText(description='side length',value =8, min =5, max = 20),\n",
    "i_0 = widgets.IntText(description='i_0', value = 1000, min=500, max=1500),\n",
    "epochs = widgets.IntText(description='epochs', value =15, min =1, max=50))\n"
   ]
  }
 ],
 "metadata": {
  "kernelspec": {
   "display_name": "Python 3",
   "language": "python",
   "name": "python3"
  },
  "language_info": {
   "codemirror_mode": {
    "name": "ipython",
    "version": 3
   },
   "file_extension": ".py",
   "mimetype": "text/x-python",
   "name": "python",
   "nbconvert_exporter": "python",
   "pygments_lexer": "ipython3",
   "version": "3.8.5"
  }
 },
 "nbformat": 4,
 "nbformat_minor": 5
}
